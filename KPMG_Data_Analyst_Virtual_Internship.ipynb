{
  "nbformat": 4,
  "nbformat_minor": 0,
  "metadata": {
    "colab": {
      "provenance": [],
      "authorship_tag": "ABX9TyMpmf4jlR9inMRntTNcI9+w",
      "include_colab_link": true
    },
    "kernelspec": {
      "name": "python3",
      "display_name": "Python 3"
    },
    "language_info": {
      "name": "python"
    }
  },
  "cells": [
    {
      "cell_type": "markdown",
      "metadata": {
        "id": "view-in-github",
        "colab_type": "text"
      },
      "source": [
        "<a href=\"https://colab.research.google.com/github/Grace-Gitome/Challenges-and-Pet-Projects/blob/main/KPMG_Data_Analyst_Virtual_Internship.ipynb\" target=\"_parent\"><img src=\"https://colab.research.google.com/assets/colab-badge.svg\" alt=\"Open In Colab\"/></a>"
      ]
    },
    {
      "cell_type": "markdown",
      "source": [
        "###Data Quality assesment\n",
        "Our Company: Tony Smith (Partner) in KPMG’s Lighthouse & Innovation Team <br>\n",
        "Client: Sprocket Central Pty Ltd <br>\n",
        "About: Medium size bikes $ cycling accessories organization.<br>"
      ],
      "metadata": {
        "id": "XYA0sYcD0d6B"
      }
    },
    {
      "cell_type": "code",
      "execution_count": null,
      "metadata": {
        "id": "qATY0dTz0V3-"
      },
      "outputs": [],
      "source": []
    }
  ]
}